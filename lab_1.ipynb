{
 "cells": [
  {
   "cell_type": "code",
   "execution_count": null,
   "metadata": {},
   "outputs": [],
   "source": [
    "!pip install scipy pandas numpy matplotlib scikit-learn fsspec huggingface_hub"
   ]
  },
  {
   "cell_type": "code",
   "execution_count": null,
   "metadata": {},
   "outputs": [],
   "source": [
    "import pandas as pd\n",
    "import numpy as np\n",
    "import matplotlib.pyplot as plt\n",
    "import scipy.stats as stats\n",
    "import sklearn.linear_model as lm\n",
    "\n",
    "# Load the data\n",
    "df = pd.read_csv(\"hf://datasets/hugginglearners/data-science-job-salaries/ds_salaries.csv\")"
   ]
  },
  {
   "cell_type": "code",
   "execution_count": null,
   "metadata": {},
   "outputs": [],
   "source": [
    "# 3 Impact of Company Size on Salary\n",
    "\n",
    "sizes = ['S', 'M', 'L']\n",
    "salary_data = [df[df['company_size'] == size]['salary_in_usd'] for size in sizes]\n",
    "\n",
    "fig, ax = plt.subplots(figsize=(8, 4))\n",
    "\n",
    "bp = ax.boxplot(salary_data, labels=sizes, patch_artist=True)\n",
    "\n",
    "colors = ['lightblue', 'lightgreen', 'lightpink']\n",
    "for patch, color in zip(bp['boxes'], colors):\n",
    "    patch.set_facecolor(color)\n",
    "\n",
    "ax.set_title('Salary by Company Size', fontsize=16)\n",
    "ax.set_xlabel('Company Size', fontsize=12)\n",
    "ax.set_ylabel('Salary (USD)', fontsize=12)\n",
    "\n",
    "ax.yaxis.grid(True, linestyle='--', color='grey')\n",
    "\n",
    "plt.show()"
   ]
  },
  {
   "cell_type": "code",
   "execution_count": null,
   "metadata": {},
   "outputs": [],
   "source": [
    "# 5 Interactions Between Relationships\n",
    "df_5 = df\n",
    "df_5['salary_in_usd'] = pd.to_numeric(df_5['salary_in_usd'], errors='coerce')\n",
    "df_5 = df_5.dropna(subset=['job_title', 'company_size', 'salary_in_usd'])\n",
    "\n",
    "pivot_table = pd.pivot_table(df_5, \n",
    "                             values='salary_in_usd', \n",
    "                             index='job_title', \n",
    "                             columns='company_size', \n",
    "                             aggfunc='mean')\n",
    "\n",
    "pivot_table = pivot_table.round(-3)\n",
    "pivot_table['mean'] = pivot_table.mean(axis=1)\n",
    "pivot_table = pivot_table.sort_values('mean', ascending=False)\n",
    "pivot_table = pivot_table.drop('mean', axis=1)\n",
    "print(pivot_table.head(23).to_string())\n",
    "\n",
    "summary_stats = df.groupby('company_size')['salary_in_usd'].agg(['mean', 'median', 'std', 'count'])\n",
    "summary_stats = summary_stats.round(0)\n",
    "\n",
    "print(\"\\nSummary Statistics by Company Size:\")\n",
    "print(summary_stats.to_string())\n",
    "\n",
    "exp_summary = df.groupby(['experience_level', 'company_size'])['salary_in_usd'].mean().unstack()\n",
    "exp_summary = exp_summary.round(-3)\n",
    "\n",
    "print(\"\\nMean Salary by Experience Level and Company Size:\")\n",
    "print(exp_summary.to_string())"
   ]
  }
 ],
 "metadata": {
  "kernelspec": {
   "display_name": "stat-220",
   "language": "python",
   "name": "python3"
  },
  "language_info": {
   "codemirror_mode": {
    "name": "ipython",
    "version": 3
   },
   "file_extension": ".py",
   "mimetype": "text/x-python",
   "name": "python",
   "nbconvert_exporter": "python",
   "pygments_lexer": "ipython3",
   "version": "3.11.4"
  }
 },
 "nbformat": 4,
 "nbformat_minor": 2
}
