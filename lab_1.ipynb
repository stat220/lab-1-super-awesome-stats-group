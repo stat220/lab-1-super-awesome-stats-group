{
 "cells": [
  {
   "cell_type": "code",
   "execution_count": 9,
   "metadata": {},
   "outputs": [
    {
     "name": "stdout",
     "output_type": "stream",
     "text": [
      "Requirement already satisfied: scipy in /Users/jeffreyeardley/miniconda3/envs/stat-220/lib/python3.11/site-packages (1.14.1)\n",
      "Requirement already satisfied: pandas in /Users/jeffreyeardley/miniconda3/envs/stat-220/lib/python3.11/site-packages (2.2.2)\n",
      "Requirement already satisfied: numpy in /Users/jeffreyeardley/miniconda3/envs/stat-220/lib/python3.11/site-packages (1.26.4)\n",
      "Requirement already satisfied: matplotlib in /Users/jeffreyeardley/miniconda3/envs/stat-220/lib/python3.11/site-packages (3.9.2)\n",
      "Requirement already satisfied: scikit-learn in /Users/jeffreyeardley/miniconda3/envs/stat-220/lib/python3.11/site-packages (1.5.2)\n",
      "Requirement already satisfied: fsspec in /Users/jeffreyeardley/miniconda3/envs/stat-220/lib/python3.11/site-packages (2024.9.0)\n",
      "Collecting huggingface_hub\n",
      "  Downloading huggingface_hub-0.24.7-py3-none-any.whl.metadata (13 kB)\n",
      "Requirement already satisfied: python-dateutil>=2.8.2 in /Users/jeffreyeardley/miniconda3/envs/stat-220/lib/python3.11/site-packages (from pandas) (2.9.0)\n",
      "Requirement already satisfied: pytz>=2020.1 in /Users/jeffreyeardley/miniconda3/envs/stat-220/lib/python3.11/site-packages (from pandas) (2024.1)\n",
      "Requirement already satisfied: tzdata>=2022.7 in /Users/jeffreyeardley/miniconda3/envs/stat-220/lib/python3.11/site-packages (from pandas) (2023.3)\n",
      "Requirement already satisfied: contourpy>=1.0.1 in /Users/jeffreyeardley/miniconda3/envs/stat-220/lib/python3.11/site-packages (from matplotlib) (1.2.0)\n",
      "Requirement already satisfied: cycler>=0.10 in /Users/jeffreyeardley/miniconda3/envs/stat-220/lib/python3.11/site-packages (from matplotlib) (0.11.0)\n",
      "Requirement already satisfied: fonttools>=4.22.0 in /Users/jeffreyeardley/miniconda3/envs/stat-220/lib/python3.11/site-packages (from matplotlib) (4.51.0)\n",
      "Requirement already satisfied: kiwisolver>=1.3.1 in /Users/jeffreyeardley/miniconda3/envs/stat-220/lib/python3.11/site-packages (from matplotlib) (1.4.4)\n",
      "Requirement already satisfied: packaging>=20.0 in /Users/jeffreyeardley/miniconda3/envs/stat-220/lib/python3.11/site-packages (from matplotlib) (24.1)\n",
      "Requirement already satisfied: pillow>=8 in /Users/jeffreyeardley/miniconda3/envs/stat-220/lib/python3.11/site-packages (from matplotlib) (10.4.0)\n",
      "Requirement already satisfied: pyparsing>=2.3.1 in /Users/jeffreyeardley/miniconda3/envs/stat-220/lib/python3.11/site-packages (from matplotlib) (3.1.2)\n",
      "Requirement already satisfied: joblib>=1.2.0 in /Users/jeffreyeardley/miniconda3/envs/stat-220/lib/python3.11/site-packages (from scikit-learn) (1.4.2)\n",
      "Requirement already satisfied: threadpoolctl>=3.1.0 in /Users/jeffreyeardley/miniconda3/envs/stat-220/lib/python3.11/site-packages (from scikit-learn) (3.5.0)\n",
      "Collecting filelock (from huggingface_hub)\n",
      "  Using cached filelock-3.16.0-py3-none-any.whl.metadata (3.0 kB)\n",
      "Collecting pyyaml>=5.1 (from huggingface_hub)\n",
      "  Using cached PyYAML-6.0.2-cp311-cp311-macosx_11_0_arm64.whl.metadata (2.1 kB)\n",
      "Collecting requests (from huggingface_hub)\n",
      "  Using cached requests-2.32.3-py3-none-any.whl.metadata (4.6 kB)\n",
      "Collecting tqdm>=4.42.1 (from huggingface_hub)\n",
      "  Using cached tqdm-4.66.5-py3-none-any.whl.metadata (57 kB)\n",
      "Requirement already satisfied: typing-extensions>=3.7.4.3 in /Users/jeffreyeardley/miniconda3/envs/stat-220/lib/python3.11/site-packages (from huggingface_hub) (4.12.2)\n",
      "Requirement already satisfied: six>=1.5 in /Users/jeffreyeardley/miniconda3/envs/stat-220/lib/python3.11/site-packages (from python-dateutil>=2.8.2->pandas) (1.16.0)\n",
      "Collecting charset-normalizer<4,>=2 (from requests->huggingface_hub)\n",
      "  Using cached charset_normalizer-3.3.2-cp311-cp311-macosx_11_0_arm64.whl.metadata (33 kB)\n",
      "Collecting idna<4,>=2.5 (from requests->huggingface_hub)\n",
      "  Using cached idna-3.8-py3-none-any.whl.metadata (9.9 kB)\n",
      "Collecting urllib3<3,>=1.21.1 (from requests->huggingface_hub)\n",
      "  Downloading urllib3-2.2.3-py3-none-any.whl.metadata (6.5 kB)\n",
      "Collecting certifi>=2017.4.17 (from requests->huggingface_hub)\n",
      "  Using cached certifi-2024.8.30-py3-none-any.whl.metadata (2.2 kB)\n",
      "Downloading huggingface_hub-0.24.7-py3-none-any.whl (417 kB)\n",
      "Using cached PyYAML-6.0.2-cp311-cp311-macosx_11_0_arm64.whl (172 kB)\n",
      "Using cached tqdm-4.66.5-py3-none-any.whl (78 kB)\n",
      "Using cached filelock-3.16.0-py3-none-any.whl (16 kB)\n",
      "Using cached requests-2.32.3-py3-none-any.whl (64 kB)\n",
      "Using cached certifi-2024.8.30-py3-none-any.whl (167 kB)\n",
      "Using cached charset_normalizer-3.3.2-cp311-cp311-macosx_11_0_arm64.whl (118 kB)\n",
      "Using cached idna-3.8-py3-none-any.whl (66 kB)\n",
      "Downloading urllib3-2.2.3-py3-none-any.whl (126 kB)\n",
      "Installing collected packages: urllib3, tqdm, pyyaml, idna, filelock, charset-normalizer, certifi, requests, huggingface_hub\n",
      "Successfully installed certifi-2024.8.30 charset-normalizer-3.3.2 filelock-3.16.0 huggingface_hub-0.24.7 idna-3.8 pyyaml-6.0.2 requests-2.32.3 tqdm-4.66.5 urllib3-2.2.3\n"
     ]
    }
   ],
   "source": [
    "!pip install scipy pandas numpy matplotlib scikit-learn fsspec huggingface_hub"
   ]
  },
  {
   "cell_type": "code",
   "execution_count": 11,
   "metadata": {},
   "outputs": [],
   "source": [
    "import pandas as pd\n",
    "import numpy as np\n",
    "import matplotlib.pyplot as plt\n",
    "import scipy.stats as stats\n",
    "import sklearn.linear_model as lm\n",
    "\n",
    "# Load the data\n",
    "df = pd.read_csv(\"hf://datasets/hugginglearners/data-science-job-salaries/ds_salaries.csv\")"
   ]
  }
 ],
 "metadata": {
  "kernelspec": {
   "display_name": "stat-220",
   "language": "python",
   "name": "python3"
  },
  "language_info": {
   "codemirror_mode": {
    "name": "ipython",
    "version": 3
   },
   "file_extension": ".py",
   "mimetype": "text/x-python",
   "name": "python",
   "nbconvert_exporter": "python",
   "pygments_lexer": "ipython3",
   "version": "3.11.9"
  }
 },
 "nbformat": 4,
 "nbformat_minor": 2
}
