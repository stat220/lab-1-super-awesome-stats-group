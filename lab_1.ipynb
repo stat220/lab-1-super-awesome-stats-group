{
 "cells": [
  {
   "cell_type": "code",
   "execution_count": null,
   "metadata": {},
   "outputs": [],
   "source": [
    "!pip install scipy pandas numpy matplotlib scikit-learn fsspec huggingface_hub"
   ]
  },
  {
   "cell_type": "code",
   "execution_count": null,
   "metadata": {},
   "outputs": [],
   "source": [
    "import pandas as pd\n",
    "import numpy as np\n",
    "import matplotlib.pyplot as plt\n",
    "import scipy.stats as stats\n",
    "import sklearn.linear_model as lm\n",
    "\n",
    "# Load the data\n",
    "df = pd.read_csv(\"hf://datasets/hugginglearners/data-science-job-salaries/ds_salaries.csv\")"
   ]
  },
  {
   "cell_type": "code",
   "execution_count": null,
   "metadata": {},
   "outputs": [],
   "source": [
    "# 1. GENERAL SALARY DATA:"
   ]
  },
  {
   "cell_type": "code",
   "execution_count": null,
   "metadata": {},
   "outputs": [],
   "source": [
    "df['salary_in_usd'].describe()"
   ]
  },
  {
   "cell_type": "code",
   "execution_count": null,
   "metadata": {},
   "outputs": [],
   "source": [
    "plt.boxplot(df['salary_in_usd'], vert=False)\n",
    "plt.title('Box Plot of Salary in USD')\n",
    "plt.xlabel('Salary')\n",
    "plt.show()"
   ]
  },
  {
   "cell_type": "code",
   "execution_count": null,
   "metadata": {},
   "outputs": [],
   "source": [
    "plt.hist(df['salary_in_usd'])\n",
    "plt.title('Historgram of Salary in USD')\n",
    "plt.xlabel('Salary')\n",
    "plt.ylabel('frequency')\n",
    "plt.show()"
   ]
  },
  {
   "cell_type": "markdown",
   "metadata": {},
   "source": [
    "As seen in the Box Plot and Historam above, the mean is greater than the median. The visualizations show a tail on the left side meaning a right-skewed distribution and there is a single peak in the second bin of the histogram. It is easy in the box plot to see outliers to the left (outliers of very high salaries). The salaries in usd range from 2859 to 600000 with the the middle 50% of the salaries falling between 62726 (Q1) and 150000 (Q3)."
   ]
  },
  {
   "cell_type": "code",
   "execution_count": null,
   "metadata": {},
   "outputs": [],
   "source": [
    "# 2 Effect of Experience on Salary"
   ]
  },
  {
   "cell_type": "code",
   "execution_count": null,
   "metadata": {},
   "outputs": [],
   "source": [
    "df.boxplot(column='salary_in_usd', by='experience_level', vert=False, grid=False)\n",
    "plt.title('Side-by-side box plot of salary by experience level')\n",
    "plt.xlabel('salary in usd')\n",
    "plt.ylabel('experience level')\n",
    "plt.show()"
   ]
  },
  {
   "cell_type": "code",
   "execution_count": null,
   "metadata": {},
   "outputs": [],
   "source": [
    "mean_salary_by_experience = df.groupby('experience_level')['salary_in_usd'].describe()\n",
    "print(mean_salary_by_experience)"
   ]
  },
  {
   "cell_type": "markdown",
   "metadata": {},
   "source": [
    "All experience levels have a few outliers of higher salary values. From the data, we see that EX level has the highest mean and median. The salaries for the EX level tend to be higher over all. The box plots show that even Q1 for the EX level is greater than Q3 for experience levels EN and MI. Comparing mean salary values from highest to lowest it goes: EX, SE, MI, and then EN. The salaries for those with EN experience tend to be the lowest as seen in the box plot by looking at the IQR being the smallest and having the lowest values. The data overall seems to be consistent for all experience levels that they are slightly skewed to the right, some experience levels more skewed than others. The mean for each experience level is higher than the median. Although still skewed to the right, the salaries for experience level of SE is most symmetric. From this data, we can conclude that their is a relationship between salary and experience level."
   ]
  },
  {
   "cell_type": "code",
   "execution_count": null,
   "metadata": {},
   "outputs": [],
   "source": [
    "# 3 Impact of Company Size on Salary\n",
    "\n",
    "sizes = ['S', 'M', 'L']\n",
    "salary_data = [df[df['company_size'] == size]['salary_in_usd'] for size in sizes]\n",
    "\n",
    "fig, ax = plt.subplots(figsize=(8, 4))\n",
    "\n",
    "bp = ax.boxplot(salary_data, labels=sizes, patch_artist=True)\n",
    "\n",
    "colors = ['lightblue', 'lightgreen', 'lightpink']\n",
    "for patch, color in zip(bp['boxes'], colors):\n",
    "    patch.set_facecolor(color)\n",
    "\n",
    "ax.set_title('Salary by Company Size', fontsize=16)\n",
    "ax.set_xlabel('Company Size', fontsize=12)\n",
    "ax.set_ylabel('Salary (USD)', fontsize=12)\n",
    "\n",
    "ax.yaxis.grid(True, linestyle='--', color='grey')\n",
    "\n",
    "plt.show()"
   ]
  },
  {
   "cell_type": "code",
   "execution_count": null,
   "metadata": {},
   "outputs": [],
   "source": [
    "# 4 Job Title Analysis\n",
    "job_df = df[['job_title', 'salary_in_usd']]\n",
    "\n",
    "\n",
    "jobs = {}\n",
    "\n",
    "jobs['Data Scientist Roles'] = ['Data Scientist', 'Principal Data Scientist', 'Staff Data Scientist', 'Applied Data Scientist', 'Data Science Engineer', 'Lead Data Scientist', 'Data Science Consultant']\n",
    "jobs['Data Engineer Roles'] = ['Data Engineer', 'Lead Data Engineer', 'Principal Data Engineer', 'Big Data Engineer', 'Cloud Data Engineer', 'Data Engineering Manager', 'ETL Developer', 'Data Architect', 'Big Data Architect']\n",
    "jobs['Machine Learning Roles'] = ['Machine Learning Engineer', 'Applied Machine Learning Scientist', 'ML Engineer', 'Machine Learning Scientist', 'Machine Learning Developer', 'Machine Learning Infrastructure Engineer', 'Lead Machine Learning Engineer', 'NLP Engineer', 'Machine Learning Manager', 'Head of Machine Learning']\n",
    "jobs['Analyst Roles'] = ['Data Analyst','Principal Data Analyst','Finance Data Analyst', 'Business Data Analyst', 'BI Data Analyst', 'Lead Data Analyst', 'Financial Data Analyst', 'Product Data Analyst', 'Marketing Data Analyst']\n",
    "jobs['Management Roles'] = ['Data Science Manager', 'Data Analytics Manager', 'Director of Data Science', 'Head of Data', 'Head of Data Science', 'Director of Data Engineering', 'Data Engineering Manager', 'Machine Learning Manager', 'Data Analytics Lead']\n",
    "jobs['Research Advanced Roles'] = ['Research Scientist', 'AI Scientist', '3D Computer Vision Researcher', 'Computer Vision Engineer', 'Computer Vision Software Engineer']\n",
    "jobs['Specialized Roles'] = ['Data Specialist', 'Data Analytics Engineer', 'Analytics Engineer', 'Financial Data Analyst']\n",
    "\n",
    "\n",
    "\n",
    "# replace job titles with categories\n",
    "flag = False\n",
    "job_title = \"none\"\n",
    "for row in job_df.itertuples():\n",
    "    for key, value in jobs.items():\n",
    "        job_title = row.job_title\n",
    "        if row.job_title in value:\n",
    "            job_df.at[row.Index, 'job_title'] = key\n",
    "            break\n",
    "\n",
    "\n",
    "# Group salaries by job titles\n",
    "job_titles = job_df['job_title'].unique()\n",
    "job_df = [job_df[job_df['job_title'] == title]['salary_in_usd'] for title in job_titles]\n",
    "plt.violinplot(job_df)\n",
    "plt.xticks(ticks=range(1, len(job_titles) + 1), labels=job_titles, rotation=90)\n",
    "plt.title('Mass Distrobution of Salaries by Job Type')\n",
    "plt.show()"
   ]
  },
  {
   "cell_type": "code",
   "execution_count": null,
   "metadata": {},
   "outputs": [],
   "source": [
    "# 5 Interactions Between Relationships\n",
    "df_5 = df\n",
    "df_5['salary_in_usd'] = pd.to_numeric(df_5['salary_in_usd'], errors='coerce')\n",
    "df_5 = df_5.dropna(subset=['job_title', 'company_size', 'salary_in_usd'])\n",
    "\n",
    "pivot_table = pd.pivot_table(df_5, \n",
    "                             values='salary_in_usd', \n",
    "                             index='job_title', \n",
    "                             columns='company_size', \n",
    "                             aggfunc='mean')\n",
    "\n",
    "pivot_table = pivot_table.round(-3)\n",
    "pivot_table['mean'] = pivot_table.mean(axis=1)\n",
    "pivot_table = pivot_table.sort_values('mean', ascending=False)\n",
    "pivot_table = pivot_table.drop('mean', axis=1)\n",
    "print(pivot_table.head(23).to_string())\n",
    "\n",
    "summary_stats = df.groupby('company_size')['salary_in_usd'].agg(['mean', 'median', 'std', 'count'])\n",
    "summary_stats = summary_stats.round(0)\n",
    "\n",
    "print(\"\\nSummary Statistics by Company Size:\")\n",
    "print(summary_stats.to_string())\n",
    "\n",
    "exp_summary = df.groupby(['experience_level', 'company_size'])['salary_in_usd'].mean().unstack()\n",
    "exp_summary = exp_summary.round(-3)\n",
    "\n",
    "print(\"\\nMean Salary by Experience Level and Company Size:\")\n",
    "print(exp_summary.to_string())"
   ]
  }
 ],
 "metadata": {
  "kernelspec": {
   "display_name": "stat-220",
   "language": "python",
   "name": "python3"
  },
  "language_info": {
   "codemirror_mode": {
    "name": "ipython",
    "version": 3
   },
   "file_extension": ".py",
   "mimetype": "text/x-python",
   "name": "python",
   "nbconvert_exporter": "python",
   "pygments_lexer": "ipython3",
   "version": "3.11.4"
  }
 },
 "nbformat": 4,
 "nbformat_minor": 2
}
